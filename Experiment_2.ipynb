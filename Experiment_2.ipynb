{
 "cells": [
  {
   "cell_type": "markdown",
   "id": "873e5f5d",
   "metadata": {},
   "source": [
    "### Blog Generation from youtube transcript "
   ]
  },
  {
   "cell_type": "code",
   "execution_count": 51,
   "id": "0314d21b",
   "metadata": {},
   "outputs": [],
   "source": [
    "import os\n",
    "from typing import Optional, TypedDict, Dict, Any\n",
    "from dotenv import load_dotenv\n",
    "from langgraph.graph import StateGraph, START, END\n",
    "from pydantic import BaseModel, Field\n",
    "from langchain_groq import ChatGroq\n",
    "from youtube_transcript_api import YouTubeTranscriptApi\n",
    "from langchain_community.tools import TavilySearchResults\n",
    "import re\n",
    "from IPython.display import Markdown, display"
   ]
  },
  {
   "cell_type": "code",
   "execution_count": 52,
   "id": "9255d17d",
   "metadata": {},
   "outputs": [],
   "source": [
    "# Load environment variables\n",
    "load_dotenv()\n",
    "os.environ[\"GROQ_API_KEY\"]=os.getenv(\"GROQ_API_KEY\")\n",
    "os.environ[\"TAVILY_API_KEY\"]=os.getenv(\"TAVILY_API_KEY\")\n",
    "\n",
    "web_search_tool = TavilySearchResults(k=3)"
   ]
  },
  {
   "cell_type": "markdown",
   "id": "c8a1dde3",
   "metadata": {},
   "source": [
    "### Integration with Langsmith for evaluation"
   ]
  },
  {
   "cell_type": "code",
   "execution_count": 53,
   "id": "c5517bb7",
   "metadata": {},
   "outputs": [],
   "source": [
    "os.environ[\"LANGSMITH_PROJECT\"] = \"Youtube-blog-generator\"\n"
   ]
  },
  {
   "cell_type": "code",
   "execution_count": 54,
   "id": "e4e729fb",
   "metadata": {},
   "outputs": [],
   "source": [
    "os.environ[\"LANGSMITH_API_KEY\"] = os.getenv(\"LANGCHAIN_API_KEY\")\n",
    "os.environ[\"LANGSMITH_TRACING\"] = \"true\""
   ]
  },
  {
   "cell_type": "code",
   "execution_count": 55,
   "id": "4a829063",
   "metadata": {},
   "outputs": [
    {
     "data": {
      "text/plain": [
       "ChatGroq(client=<groq.resources.chat.completions.Completions object at 0x0000021EF178F650>, async_client=<groq.resources.chat.completions.AsyncCompletions object at 0x0000021EF17BC2C0>, model_name='meta-llama/llama-4-scout-17b-16e-instruct', temperature=0.6, model_kwargs={}, groq_api_key=SecretStr('**********'))"
      ]
     },
     "execution_count": 55,
     "metadata": {},
     "output_type": "execute_result"
    }
   ],
   "source": [
    "# LLMs\n",
    "llm = ChatGroq(model=\"meta-llama/llama-4-scout-17b-16e-instruct\", temperature = 0.6)\n",
    "llm"
   ]
  },
  {
   "cell_type": "markdown",
   "id": "f0bc6130",
   "metadata": {},
   "source": [
    "### Defining the State"
   ]
  },
  {
   "cell_type": "code",
   "execution_count": 56,
   "id": "58222d32",
   "metadata": {},
   "outputs": [],
   "source": [
    "class State(TypedDict):\n",
    "    video_url: str\n",
    "    transcript: Optional[str]\n",
    "    title: Optional[str]\n",
    "    blog_content: Optional[str]\n",
    "    review_feedback: Optional[str]\n",
    "    refine_blog: Optional[bool]\n",
    "    search_query: Optional[str] \n",
    "    search_results: Optional[str]\n",
    "    additional_comments: Optional[str]"
   ]
  },
  {
   "cell_type": "code",
   "execution_count": 57,
   "id": "b028818b",
   "metadata": {},
   "outputs": [],
   "source": [
    "##Extract video url\n",
    "def extract_video_id(url):\n",
    "    patterns = [\n",
    "        r'(?:https?:\\/\\/)?(?:www\\.)?youtube\\.com\\/watch\\?v=([^&\\s]+)',\n",
    "        r'(?:https?:\\/\\/)?(?:www\\.)?youtube\\.com\\/embed\\/([^&\\s]+)',\n",
    "        r'(?:https?:\\/\\/)?(?:www\\.)?youtu\\.be\\/([^&\\s]+)'\n",
    "    ]\n",
    "    for pattern in patterns:\n",
    "        match = re.search(pattern, url)\n",
    "        if match:\n",
    "            return match.group(1)\n",
    "    raise ValueError(\"Invalid YouTube URL\")"
   ]
  },
  {
   "cell_type": "code",
   "execution_count": 58,
   "id": "e2aacc20",
   "metadata": {},
   "outputs": [],
   "source": [
    "##Fetching Transcript from YouTube\n",
    "\n",
    "def Document_Loader(state: State) -> State:\n",
    "    try:\n",
    "        video_id = extract_video_id(state['video_url'])\n",
    "        transcript_list = YouTubeTranscriptApi.get_transcript(video_id)\n",
    "        transcript = \" \".join([entry['text'] for entry in transcript_list])\n",
    "        return {**state, 'transcript': transcript}\n",
    "    except Exception as e:\n",
    "        return {**state, 'transcript': \"Unable to load transcript.\"}"
   ]
  },
  {
   "cell_type": "code",
   "execution_count": 59,
   "id": "647b2275",
   "metadata": {},
   "outputs": [],
   "source": [
    "def Title_Generator(state: State) -> State:  \n",
    "    if not state['transcript'] or state['transcript'] == \"Unable to load transcript.\":\n",
    "        return {**state, 'title': \"Could not generate title due to transcript loading issue.\"}  \n",
    "    prompt = f\"Generate a only one catchy and relevant title for a blog post based on the following transcript:\\n\\nTranscript:\\n{state['transcript']}\\n Note: Just give only one title.\"\n",
    "    title = llm.invoke(prompt)    \n",
    "    return {**state, 'title': title.content}   "
   ]
  },
  {
   "cell_type": "code",
   "execution_count": 60,
   "id": "5d14a385",
   "metadata": {},
   "outputs": [],
   "source": [
    "def Web_Search(state: State) -> State:\n",
    "    search_query = state.get('title', '').strip()\n",
    "    if not search_query:\n",
    "        transcript = state.get('transcript', '')\n",
    "        if transcript and transcript != \"Unable to load transcript.\":\n",
    "            search_query = \" \".join(transcript.split()[:100])\n",
    "        else:\n",
    "            return {**state, 'search_results': 'No search query could be generated.'}\n",
    "\n",
    "    try:\n",
    "        results = web_search_tool.run(search_query)\n",
    "        return {**state, 'search_query': search_query, 'search_results': results}\n",
    "    except Exception as e:\n",
    "        return {**state, 'search_results': f\"An error occurred during web search: {e}\"}"
   ]
  },
  {
   "cell_type": "code",
   "execution_count": 61,
   "id": "548ebc19",
   "metadata": {},
   "outputs": [],
   "source": [
    "def Blog_Creator(state: State) -> State:\n",
    "    if not state['transcript'] or state['transcript'] == \"Unable to load transcript.\":\n",
    "        return {**state, 'blog_content': \"Could not generate blog content due to transcript loading issue.\"}\n",
    "    \n",
    "    prompt = f\"Create a comprehensive and engaging blog post from the following transcript. \" \\\n",
    "             f\"Use the following web search results for additional context and enrichment. \" \\\n",
    "             f\"Ensure the content is well-structured, informative, and captures the key points.\\n\\n\" \\\n",
    "             f\"Transcript:\\n{state['transcript']}\\n\\n\" \\\n",
    "             f\"Web Search Results:\\n{state.get('search_results', 'No search results.')}\"\n",
    "    blog_content = llm.invoke(prompt)\n",
    "    return {**state, 'blog_content': blog_content.content}"
   ]
  },
  {
   "cell_type": "code",
   "execution_count": 62,
   "id": "720402fd",
   "metadata": {},
   "outputs": [],
   "source": [
    "def Reviewer(state: State) -> State:\n",
    "    review_prompt = f\"Review the following blog post and provide constructive feedback:\\n\\n{state['blog_content']}\"\n",
    "    feedback = llm.invoke(review_prompt)\n",
    "    return {**state, 'review_feedback': feedback.content}"
   ]
  },
  {
   "cell_type": "code",
   "execution_count": 63,
   "id": "4f34f6dd",
   "metadata": {},
   "outputs": [],
   "source": [
    "def HumanFeedback(state: State) -> State:\n",
    "    return state"
   ]
  },
  {
   "cell_type": "code",
   "execution_count": 64,
   "id": "26f822c2",
   "metadata": {},
   "outputs": [],
   "source": [
    "def Blog_Refiner(state: State) -> State:\n",
    "    if state.get('refine_blog', False):\n",
    "        refined_prompt = f\"Refine the following blog post based on these comments: {state['additional_comments']}\\n\\nOriginal Blog:\\n{state['blog_content']}\"\n",
    "        refined_blog_content = llm.invoke(refined_prompt)\n",
    "        return {**state, 'blog_content': refined_blog_content.content}\n",
    "    return state"
   ]
  },
  {
   "cell_type": "code",
   "execution_count": 65,
   "id": "fc76bd8a",
   "metadata": {},
   "outputs": [],
   "source": [
    "def should_continue(state: State, refine_blog: bool, additional_comments: Optional[str] = None) -> State:\n",
    "    return {**state, 'refine_blog': refine_blog, 'additional_comments': additional_comments}"
   ]
  },
  {
   "cell_type": "markdown",
   "id": "c46cc76c",
   "metadata": {},
   "source": [
    "### Graph Structure"
   ]
  },
  {
   "cell_type": "code",
   "execution_count": 66,
   "id": "68abadcb",
   "metadata": {},
   "outputs": [
    {
     "data": {
      "image/png": "[encoded data removed]",
      "text/plain": [
       "<langgraph.graph.state.CompiledStateGraph object at 0x0000021EF17EF440>"
      ]
     },
     "execution_count": 66,
     "metadata": {},
     "output_type": "execute_result"
    }
   ],
   "source": [
    "builder = StateGraph(State)\n",
    "\n",
    "## add nodes\n",
    "builder.add_node(\"Document_Loader\", Document_Loader)\n",
    "builder.add_node(\"Blog_Creator\", Blog_Creator)\n",
    "builder.add_node(\"Title_Generator\", Title_Generator)\n",
    "builder.add_node(\"Web_Search\", Web_Search)\n",
    "builder.add_node(\"Reviewer\", Reviewer)\n",
    "builder.add_node(\"HumanFeedback\", HumanFeedback)\n",
    "builder.add_node(\"Blog_Refiner\", Blog_Refiner)\n",
    "\n",
    "## add edges\n",
    "builder.add_edge(START, \"Document_Loader\")\n",
    "builder.add_edge(\"Document_Loader\", \"Title_Generator\")\n",
    "builder.add_edge(\"Title_Generator\", \"Web_Search\")\n",
    "builder.add_edge(\"Web_Search\", \"Blog_Creator\")\n",
    "builder.add_edge(\"Blog_Creator\", \"Reviewer\")\n",
    "builder.add_edge(\"Reviewer\", \"HumanFeedback\")\n",
    "builder.add_conditional_edges(\n",
    "    \"HumanFeedback\",\n",
    "    lambda state: \"Yes\" if state.get('refine_blog', False) else \"No\",\n",
    "    {\n",
    "        \"No\": END,\n",
    "        \"Yes\": \"Blog_Refiner\",\n",
    "    }\n",
    ")\n",
    "builder.add_edge(\"Blog_Refiner\", \"Reviewer\")\n",
    "\n",
    "\n",
    "graph = builder.compile(interrupt_before=['HumanFeedback'])\n",
    "graph"
   ]
  },
  {
   "cell_type": "code",
   "execution_count": 67,
   "id": "17e22fa4",
   "metadata": {},
   "outputs": [
    {
     "name": "stdout",
     "output_type": "stream",
     "text": [
      "\n",
      "--- Generated Blog Content ---\n"
     ]
    },
    {
     "data": {
      "text/markdown": [
       "**Discover the Hidden Paradise: 5 Essential Things to Know Before Traveling to Andaman**\n",
       "\n",
       "Welcome to the enchanting islands of Andaman, a haven for nature lovers, adventure seekers, and those looking to unwind in a tropical paradise. As you plan your trip to this breathtaking destination, here are five crucial things to keep in mind to make the most of your journey.\n",
       "\n",
       "**1. Network Issues: Disconnect to Reconnect**\n",
       "\n",
       "As you step into the Andaman Islands, be prepared to experience a digital detox. Network issues are common, and you may find yourself disconnected from the world, especially on Havelock Island. While some resorts and hotels offer Wi-Fi connectivity, it's not a guarantee. Recently, the Indian government announced the launch of high-speed broadband connectivity through the undersea optical fiber cable project, providing a lifeline to the digital world. However, we recommend taking a break from social media and immersing yourself in the island's serene beauty.\n",
       "\n",
       "**2. Sea Walk: A Journey Under the Sea**\n",
       "\n",
       "One of the most unique experiences in Andaman is the sea walk, a must-do activity on your itinerary. Explore the underwater world, teeming with colorful fish, coral life, and other marine animals like sea urchins, sea cucumbers, and oysters. You might even encounter friendly fish that might \"kiss\" your fingers! Choose from two locations: Elephant Beach on Havelock Island or North Bay Island. Don't miss this opportunity, as high tides might close the sea walk area.\n",
       "\n",
       "**3. Best Time to Visit: Winter Wonderland**\n",
       "\n",
       "The winter season is the ideal time to visit Andaman, with temperatures ranging from 22°C to 31°C and lower humidity levels in January and December. This is the perfect time to shake off the winter blues and enjoy a jacket-free vacation. As you arrive at Port Blair airport, you'll be thrilled to leave your winter gear behind.\n",
       "\n",
       "**4. Carry Snacks and Drinking Water: Be Self-Sufficient**\n",
       "\n",
       "When exploring the smaller islands like Jolly Boy Island and Ross Island, you might find limited food and water options. It's essential to carry your own snacks and drinking water to keep you going throughout the day. Remember to be eco-friendly and avoid polluting the islands.\n",
       "\n",
       "**5. Trip to Baratang: Explore the Limestone Caves**\n",
       "\n",
       "Your journey to Andaman begins at 3:30 a.m. with a trip to Baratang, where you'll explore the limestone caves. Don't forget to wear comfortable shoes, as you'll need to trek a short distance. Photography is strictly prohibited while entering the tropical forest, home to the Jarva tribes. However, you can capture memories after exiting the forest.\n",
       "\n",
       "**Additional Tips and Insights**\n",
       "\n",
       "* **Travel Documents:** Don't forget to carry your passport, visa, and Restricted Area Permit (RAP) for certain areas.\n",
       "* **Mobile Connectivity and Wi-Fi:** While mobile connectivity is improving, it's still limited. Consider investing in a local SIM or portable Wi-Fi hotspot.\n",
       "* **Responsible Tourism:** Be mindful of your surroundings and respect the local environment and tribes. Avoid visiting North Sentinel Island, home to the isolated Sentinelese tribe.\n",
       "* **Activities and Adventures:** Try mangrove kayaking, island hopping, and discover the vibrant marine life. Visit Radhanagar Beach, Mahatma Gandhi Marine National Park, and explore the islands' lush grasslands, home to over 270 species of birds.\n",
       "\n",
       "**Conclusion**\n",
       "\n",
       "Andaman Islands offer a unique blend of adventure, nature, and relaxation. With these essential tips, you're ready to embark on an unforgettable journey. Remember to be respectful of the environment, local tribes, and fellow travelers. Book your flight, pack your bags, and get ready to experience the beauty of Andaman.\n",
       "\n",
       "**Sources:**\n",
       "\n",
       "* Official Website of Andaman & Nicobar Tourism: [www.andamantourism.gov.in](http://www.andamantourism.gov.in)\n",
       "* Symphony Resorts: [www.symphonyresorts.com/blogs/things-to-keep-in-mind-while-traveling-to-andaman.html](http://www.symphonyresorts.com/blogs/things-to-keep-in-mind-while-traveling-to-andaman.html)\n",
       "* Thrilling Travel: [thrillingtravel.in/travel-guide-andamans-nicobar-india.html](http://thrillingtravel.in/travel-guide-andamans-nicobar-india.html)\n",
       "* Go2Andaman: [www.go2andaman.com/andaman-nicobar-islands/](http://www.go2andaman.com/andaman-nicobar-islands/)\n",
       "\n",
       "Happy travels!"
      ],
      "text/plain": [
       "<IPython.core.display.Markdown object>"
      ]
     },
     "metadata": {},
     "output_type": "display_data"
    }
   ],
   "source": [
    "video_url = input(\"Please provide the YouTube link for blog generation: \")\n",
    "initial_state = {\n",
    "    'video_url': video_url,\n",
    "}\n",
    "output_state = graph.invoke(initial_state)\n",
    "print(\"\\n--- Generated Blog Content ---\")\n",
    "display(Markdown(output_state.get('blog_content', 'No blog content generated.')))"
   ]
  },
  {
   "cell_type": "code",
   "execution_count": 68,
   "id": "688191e6",
   "metadata": {},
   "outputs": [
    {
     "name": "stdout",
     "output_type": "stream",
     "text": [
      "\n",
      "--- Refined Blog Content ---\n"
     ]
    },
    {
     "data": {
      "text/markdown": [
       "**Discover the Hidden Paradise: 5 Essential Things to Know Before Traveling to Andaman**\n",
       "\n",
       "Are you ready to escape to a tropical paradise? The Andaman and Nicobar Islands are a haven for travelers seeking adventure, relaxation, and breathtaking natural beauty. Before you plan your trip to this Indian archipelago, here are five important things to know to make the most of your journey.\n",
       "\n",
       "**1. Network Issues: Be Prepared for a Digital Detox**\n",
       "\n",
       "When traveling to Andaman, be prepared for limited network connectivity. The island's remote location can make it challenging to stay connected to the outside world. During a previous visit, one traveler experienced zero network connectivity, making it essential to plan ahead and take breaks from social media. Although the Indian government has recently announced high-speed broadband connectivity through the undersea optical fiber cable project, connecting Chennai to Port Blair and other islands, it's still a good idea to disconnect and immerse yourself in nature.\n",
       "\n",
       "**2. Seawalk: A Unique Underwater Experience**\n",
       "\n",
       "A seawalk is a must-do experience in Andaman, offering a glimpse into an underwater world teeming with colorful fish, coral life, and other marine animals. You can take a seawalk at Elephant Beach in Havelock Island or North Bay Island. Be aware that high tides might cause the activity to be closed, so plan accordingly. This adventure activity is a unique opportunity to explore the ocean without requiring swimming.\n",
       "\n",
       "**3. Best Time to Visit: Winter Wonderland**\n",
       "\n",
       "The winter season, from December to January, is the best time to visit Andaman, with average temperatures ranging from 22°C to 31°C. The pleasant weather makes it ideal for outdoor activities like snorkeling, scuba diving, and exploring the islands. If you're looking for a jacket-free winter vacation, plan your trip during this time.\n",
       "\n",
       "**4. Carry Snacks and Drinking Water: Be Self-Sufficient**\n",
       "\n",
       "When visiting small islands like Jolly Boy Island and Ross Island, you might find limited food and water options. Carry your own snacks and drinking water to ensure you stay hydrated and energized throughout the day. Remember to dispose of your waste responsibly and avoid polluting the islands.\n",
       "\n",
       "**5. Trip to Baratang: Respect the Tribal Land**\n",
       "\n",
       "A trip to Baratang Island is a must, but it requires some planning. The journey begins at 3:30 a.m., and photography is strictly prohibited while entering the tropical forest, home to the Jarva tribes. Wear comfortable shoes, as you'll need to trek to the limestone caves. Be respectful of the tribal land and avoid mingling with the inhabitants to preserve their way of life.\n",
       "\n",
       "**Additional Tips for a Smooth Journey**\n",
       "\n",
       "* **Pack wisely**: Bring light cotton clothes for summer, a light cardigan for winters, dark sunglasses, an umbrella, raincoat, and trekking shoes if you plan to trek to Madhuban.\n",
       "* **Carry cash**: There are limited ATMs on the islands, so it's essential to carry sufficient cash in INR. You can exchange currency at the airport or in Port Blair.\n",
       "* **Respect the environment**: Avoid damaging coral reefs and refrain from touching poisonous fish and corals while snorkeling and diving.\n",
       "* **Be mindful of local culture**: Respect the Jarva tribes and their land, and avoid mingling with them to preserve their way of life.\n",
       "\n",
       "**Conclusion**\n",
       "\n",
       "The Andaman and Nicobar Islands are a treasure trove of natural wonders, rich history, and vibrant culture. With these essential tips, you're ready to plan an unforgettable journey to this Indian paradise. From network issues to seawalk experiences, and from the best time to visit to respecting the tribal land, we've got you covered. So pack your bags, grab your sunscreen, and get ready to experience the beauty of Andaman!\n",
       "\n",
       "**Recommended Resources**\n",
       "\n",
       "For more information and insider tips, check out these websites:\n",
       "\n",
       "* [Quora: What should I know before travelling to Andaman & Nicobar?](https://www.quora.com/What-should-I-know-before-travelling-to-Andaman-Nicobar)\n",
       "* [Go2Andaman: Travel Guide to the Andaman Islands](https://www.go2andaman.com/andaman-nicobar-islands/)\n",
       "* [Thrilling Travel: A guide to plan a trip to Andaman](https://thrillingtravel.in/travel-guide-andamans-nicobar-india.html)\n",
       "* [MakeMyTrip: Andamans - A Quick and Handy Travel Guide](https://www.makemytrip.com/tripideas/blog/andamans-quick-travel-guide)\n",
       "* [TravelTriangle: Andaman Travel Tips](https://traveltriangle.com/blog/andaman-travel-tips/)"
      ],
      "text/plain": [
       "<IPython.core.display.Markdown object>"
      ]
     },
     "metadata": {},
     "output_type": "display_data"
    }
   ],
   "source": [
    "refine_blog_input = input(\"\\nDo you want to refine the blog? (Yes/No): \").strip().lower()\n",
    "refine_blog = refine_blog_input == \"yes\"\n",
    "    \n",
    "additional_comments = None\n",
    "if refine_blog:\n",
    "    additional_comments = input(\"Please provide additional comments to refine the blog: \").strip()\n",
    "output_state = should_continue(output_state, refine_blog, additional_comments)\n",
    "if refine_blog:\n",
    "    output_state = graph.invoke(output_state)\n",
    "    print(\"\\n--- Refined Blog Content ---\")\n",
    "    display(Markdown(output_state.get('blog_content', 'No refined blog content generated.')))"
   ]
  },
  {
   "cell_type": "code",
   "execution_count": null,
   "id": "32f88b9a",
   "metadata": {},
   "outputs": [],
   "source": []
  }
 ],
 "metadata": {
  "kernelspec": {
   "display_name": "AgenticLanggraph",
   "language": "python",
   "name": "python3"
  },
  "language_info": {
   "codemirror_mode": {
    "name": "ipython",
    "version": 3
   },
   "file_extension": ".py",
   "mimetype": "text/x-python",
   "name": "python",
   "nbconvert_exporter": "python",
   "pygments_lexer": "ipython3",
   "version": "3.12.4"
  }
 },
 "nbformat": 4,
 "nbformat_minor": 5
}
